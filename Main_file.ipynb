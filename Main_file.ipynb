{
  "nbformat": 4,
  "nbformat_minor": 0,
  "metadata": {
    "colab": {
      "provenance": [],
      "toc_visible": true
    },
    "kernelspec": {
      "name": "python3",
      "display_name": "Python 3"
    },
    "language_info": {
      "name": "python"
    }
  },
  "cells": [
    {
      "cell_type": "code",
      "execution_count": null,
      "metadata": {
        "id": "Nkg_5EL41WSa"
      },
      "outputs": [],
      "source": [
        "# Import libraries\n",
        "import numpy as np\n",
        "import matplotlib.pyplot as plt\n",
        "\n",
        "import tensorflow as tf\n",
        "from tensorflow.keras import datasets, layers, models\n",
        "from tensorflow.keras.utils import to_categorical\n",
        "from tensorflow.keras.applications import MobileNetV2\n",
        "import os\n",
        "import random\n",
        "from PIL import Image\n",
        "import matplotlib.pyplot as plt"
      ]
    },
    {
      "cell_type": "code",
      "source": [
        "from google.colab import drive\n",
        "drive.mount('/content/drive')"
      ],
      "metadata": {
        "colab": {
          "base_uri": "https://localhost:8080/",
          "height": 304
        },
        "id": "VeiJu233KdLJ",
        "outputId": "8eafb0e2-6ea8-4582-ff40-439d1a6ceb4a"
      },
      "execution_count": null,
      "outputs": [
        {
          "output_type": "error",
          "ename": "ValueError",
          "evalue": "mount failed",
          "traceback": [
            "\u001b[0;31m---------------------------------------------------------------------------\u001b[0m",
            "\u001b[0;31mValueError\u001b[0m                                Traceback (most recent call last)",
            "\u001b[0;32m<ipython-input-5-d5df0069828e>\u001b[0m in \u001b[0;36m<cell line: 2>\u001b[0;34m()\u001b[0m\n\u001b[1;32m      1\u001b[0m \u001b[0;32mfrom\u001b[0m \u001b[0mgoogle\u001b[0m\u001b[0;34m.\u001b[0m\u001b[0mcolab\u001b[0m \u001b[0;32mimport\u001b[0m \u001b[0mdrive\u001b[0m\u001b[0;34m\u001b[0m\u001b[0;34m\u001b[0m\u001b[0m\n\u001b[0;32m----> 2\u001b[0;31m \u001b[0mdrive\u001b[0m\u001b[0;34m.\u001b[0m\u001b[0mmount\u001b[0m\u001b[0;34m(\u001b[0m\u001b[0;34m'/content/drive'\u001b[0m\u001b[0;34m)\u001b[0m\u001b[0;34m\u001b[0m\u001b[0;34m\u001b[0m\u001b[0m\n\u001b[0m",
            "\u001b[0;32m/usr/local/lib/python3.10/dist-packages/google/colab/drive.py\u001b[0m in \u001b[0;36mmount\u001b[0;34m(mountpoint, force_remount, timeout_ms, readonly)\u001b[0m\n\u001b[1;32m     98\u001b[0m \u001b[0;32mdef\u001b[0m \u001b[0mmount\u001b[0m\u001b[0;34m(\u001b[0m\u001b[0mmountpoint\u001b[0m\u001b[0;34m,\u001b[0m \u001b[0mforce_remount\u001b[0m\u001b[0;34m=\u001b[0m\u001b[0;32mFalse\u001b[0m\u001b[0;34m,\u001b[0m \u001b[0mtimeout_ms\u001b[0m\u001b[0;34m=\u001b[0m\u001b[0;36m120000\u001b[0m\u001b[0;34m,\u001b[0m \u001b[0mreadonly\u001b[0m\u001b[0;34m=\u001b[0m\u001b[0;32mFalse\u001b[0m\u001b[0;34m)\u001b[0m\u001b[0;34m:\u001b[0m\u001b[0;34m\u001b[0m\u001b[0;34m\u001b[0m\u001b[0m\n\u001b[1;32m     99\u001b[0m   \u001b[0;34m\"\"\"Mount your Google Drive at the specified mountpoint path.\"\"\"\u001b[0m\u001b[0;34m\u001b[0m\u001b[0;34m\u001b[0m\u001b[0m\n\u001b[0;32m--> 100\u001b[0;31m   return _mount(\n\u001b[0m\u001b[1;32m    101\u001b[0m       \u001b[0mmountpoint\u001b[0m\u001b[0;34m,\u001b[0m\u001b[0;34m\u001b[0m\u001b[0;34m\u001b[0m\u001b[0m\n\u001b[1;32m    102\u001b[0m       \u001b[0mforce_remount\u001b[0m\u001b[0;34m=\u001b[0m\u001b[0mforce_remount\u001b[0m\u001b[0;34m,\u001b[0m\u001b[0;34m\u001b[0m\u001b[0;34m\u001b[0m\u001b[0m\n",
            "\u001b[0;32m/usr/local/lib/python3.10/dist-packages/google/colab/drive.py\u001b[0m in \u001b[0;36m_mount\u001b[0;34m(mountpoint, force_remount, timeout_ms, ephemeral, readonly)\u001b[0m\n\u001b[1;32m    275\u001b[0m             \u001b[0;34m'https://research.google.com/colaboratory/faq.html#drive-timeout'\u001b[0m\u001b[0;34m\u001b[0m\u001b[0;34m\u001b[0m\u001b[0m\n\u001b[1;32m    276\u001b[0m         )\n\u001b[0;32m--> 277\u001b[0;31m       \u001b[0;32mraise\u001b[0m \u001b[0mValueError\u001b[0m\u001b[0;34m(\u001b[0m\u001b[0;34m'mount failed'\u001b[0m \u001b[0;34m+\u001b[0m \u001b[0mextra_reason\u001b[0m\u001b[0;34m)\u001b[0m\u001b[0;34m\u001b[0m\u001b[0;34m\u001b[0m\u001b[0m\n\u001b[0m\u001b[1;32m    278\u001b[0m     \u001b[0;32melif\u001b[0m \u001b[0mcase\u001b[0m \u001b[0;34m==\u001b[0m \u001b[0;36m4\u001b[0m\u001b[0;34m:\u001b[0m\u001b[0;34m\u001b[0m\u001b[0;34m\u001b[0m\u001b[0m\n\u001b[1;32m    279\u001b[0m       \u001b[0;31m# Terminate the DriveFS binary before killing bash.\u001b[0m\u001b[0;34m\u001b[0m\u001b[0;34m\u001b[0m\u001b[0m\n",
            "\u001b[0;31mValueError\u001b[0m: mount failed"
          ]
        }
      ]
    },
    {
      "cell_type": "code",
      "source": [
        "# Install the splitfolders library\n",
        "!pip install split-folders\n",
        "\n",
        "import splitfolders\n",
        "\n",
        "# Input folder where the 5 classes are located\n",
        "input_folder = \"/content/drive/MyDrive/MLPR Images-20241219T100019Z-001/MLPR Images\"\n",
        "\n",
        "# Output folder for train/val/test splits\n",
        "output_folder = \"/content/split_data\"\n",
        "\n",
        "# Split the data (80% train, 10% validation, 10% test)\n",
        "splitfolders.ratio(input_folder,\n",
        "                   output=output_folder,\n",
        "                   seed=42,\n",
        "                   ratio=(0.8, 0.1, 0.1),\n",
        "                   group_prefix=None)\n"
      ],
      "metadata": {
        "id": "dCltXHqh12xH"
      },
      "execution_count": null,
      "outputs": []
    },
    {
      "cell_type": "code",
      "source": [
        "\n",
        "# Function to visualize samples from a dataset\n",
        "def visualize_samples(folder, title, num_samples=5):\n",
        "    \"\"\"\n",
        "    Visualize random samples from the specified dataset folder.\n",
        "    :param folder: Path to dataset folder (e.g., train, val, test)\n",
        "    :param title: Title for the plot\n",
        "    :param num_samples: Number of images to visualize\n",
        "    \"\"\"\n",
        "    class_folders = [os.path.join(folder, cls) for cls in os.listdir(folder)]\n",
        "    class_folders = [f for f in class_folders if os.path.isdir(f)]\n",
        "\n",
        "    plt.figure(figsize=(15, 5))\n",
        "    for i in range(num_samples):\n",
        "        # Pick a random class\n",
        "        selected_class = random.choice(class_folders)\n",
        "        # Pick a random image from the selected class\n",
        "        img_path = os.path.join(selected_class, random.choice(os.listdir(selected_class)))\n",
        "        img = Image.open(img_path)\n",
        "\n",
        "        # Plot the image\n",
        "        plt.subplot(1, num_samples, i + 1)\n",
        "        plt.imshow(img)\n",
        "        plt.axis('off')\n",
        "        plt.title(os.path.basename(selected_class))\n",
        "\n",
        "    plt.suptitle(title, fontsize=16)\n",
        "    plt.show()\n",
        "\n",
        "# Visualize samples from train, val, and test datasets\n",
        "visualize_samples(os.path.join(\"/content/split_data\", \"train\"), \"Training Samples\")\n",
        "visualize_samples(os.path.join(\"/content/split_data\", \"val\"), \"Validation Samples\")\n",
        "visualize_samples(os.path.join(\"/content/split_data\", \"test\"), \"Test Samples\")"
      ],
      "metadata": {
        "id": "3inDClZAuI9p"
      },
      "execution_count": null,
      "outputs": []
    },
    {
      "cell_type": "code",
      "source": [],
      "metadata": {
        "id": "MZC2VXrRuI7L"
      },
      "execution_count": null,
      "outputs": []
    },
    {
      "cell_type": "code",
      "source": [],
      "metadata": {
        "id": "nbEM87DXuI15"
      },
      "execution_count": null,
      "outputs": []
    },
    {
      "cell_type": "code",
      "source": [
        "from tensorflow.keras.preprocessing.image import ImageDataGenerator\n",
        "\n",
        "# Paths to the split data\n",
        "train_dir = '/content/split_data/train'\n",
        "val_dir = '/content/split_data/val'\n",
        "test_dir = '/content/split_data/test'\n",
        "\n",
        "# Data augmentation for training data\n",
        "train_datagen = ImageDataGenerator(rescale=1./255,   # Normalize pixel values\n",
        "                                   rotation_range=20,\n",
        "                                   width_shift_range=0.2,\n",
        "                                   height_shift_range=0.2,\n",
        "                                   shear_range=0.2,\n",
        "                                   zoom_range=0.2,\n",
        "                                   horizontal_flip=True)\n",
        "\n",
        "# Rescale validation and test data\n",
        "val_test_datagen = ImageDataGenerator(rescale=1./255)\n",
        "\n",
        "# Generate batches of image data\n",
        "train_generator = train_datagen.flow_from_directory(\n",
        "    train_dir,\n",
        "    target_size=(150, 150),  # Resize images\n",
        "    batch_size=32,\n",
        "    class_mode='categorical')  # For multi-class classification\n",
        "\n",
        "val_generator = val_test_datagen.flow_from_directory(\n",
        "    val_dir,\n",
        "    target_size=(150, 150),\n",
        "    batch_size=32,\n",
        "    class_mode='categorical')\n",
        "\n",
        "test_generator = val_test_datagen.flow_from_directory(\n",
        "    test_dir,\n",
        "    target_size=(150, 150),\n",
        "    batch_size=32,\n",
        "    class_mode='categorical')\n"
      ],
      "metadata": {
        "id": "Q_vWS0dhLq68"
      },
      "execution_count": null,
      "outputs": []
    },
    {
      "cell_type": "code",
      "source": [
        "class_names = train_generator.class_names"
      ],
      "metadata": {
        "id": "33SkB6AhvwE9"
      },
      "execution_count": null,
      "outputs": []
    },
    {
      "cell_type": "code",
      "source": [
        "from tensorflow.keras import models, layers\n",
        "\n",
        "# Assuming the input images are of shape 32x32 with 3 channels (RGB)\n",
        "model = models.Sequential()\n",
        "\n",
        "# Add convolutional and pooling layers\n",
        "model.add(layers.Conv2D(32, (3, 3), activation='relu', input_shape=(32, 32, 3)))\n",
        "model.add(layers.MaxPooling2D((2, 2)))\n",
        "model.add(layers.Dropout(0.25))  # Dropout for regularization\n",
        "\n",
        "model.add(layers.Conv2D(64, (3, 3), activation='relu'))\n",
        "model.add(layers.MaxPooling2D((2, 2)))\n",
        "model.add(layers.Dropout(0.25))  # Dropout for regularization\n",
        "\n",
        "model.add(layers.Conv2D(128, (3, 3), activation='relu'))\n",
        "\n",
        "# Flatten and add Dense layers\n",
        "model.add(layers.Flatten())\n",
        "model.add(layers.Dense(128, activation='relu'))\n",
        "model.add(layers.Dropout(0.5))  # Dropout for regularization\n",
        "model.add(layers.Dense(10, activation='softmax'))  # Assuming 10 output classes\n",
        "\n",
        "# Compile the model\n",
        "model.compile(optimizer='adam',\n",
        "              loss='sparse_categorical_crossentropy',\n",
        "              metrics=['accuracy'])\n",
        "\n",
        "# Print the model summary\n",
        "model.summary()\n"
      ],
      "metadata": {
        "id": "M9PaojHYvOGy"
      },
      "execution_count": null,
      "outputs": []
    },
    {
      "cell_type": "code",
      "source": [
        "import tensorflow as tf\n",
        "from tensorflow.keras.models import Sequential\n",
        "from tensorflow.keras.layers import Conv2D, MaxPooling2D, Flatten, Dense, Dropout\n",
        "\n",
        "# Model architecture\n",
        "model = Sequential([\n",
        "    Conv2D(32, (3, 3), activation='relu', input_shape=(150, 150, 3)),\n",
        "    MaxPooling2D(2, 2),\n",
        "\n",
        "    Conv2D(64, (3, 3), activation='relu'),\n",
        "    MaxPooling2D(2, 2),\n",
        "\n",
        "    Conv2D(128, (3, 3), activation='relu'),\n",
        "    MaxPooling2D(2, 2),\n",
        "\n",
        "    Flatten(),  # Flatten the 3D feature maps into 1D vectors\n",
        "    Dense(128, activation='relu'),\n",
        "    Dropout(0.5),\n",
        "    Dense(6, activation='softmax')  # Update for 6 classes\n",
        "])\n",
        "\n",
        "# Compile the model\n",
        "model.compile(\n",
        "    optimizer='adam',\n",
        "    loss='sparse_categorical_crossentropy',  # Use sparse categorical crossentropy for integer labels\n",
        "    metrics=['accuracy']\n",
        ")\n",
        "\n",
        "# Dataset loading and preprocessing\n",
        "train_dir_path = \"/content/split_data/train\"\n",
        "train_dir = tf.keras.utils.image_dataset_from_directory(\n",
        "    train_dir_path,\n",
        "    image_size=(150, 150),\n",
        "    batch_size=32,\n",
        "    label_mode='int'  # Integer labels for sparse_categorical_crossentropy\n",
        ")\n",
        "\n",
        "# Normalize the dataset\n",
        "def preprocess(image, label):\n",
        "    image = tf.cast(image, tf.float32) / 255.0\n",
        "    return image, label\n",
        "\n",
        "train_dir = train_dir.map(preprocess)\n",
        "\n",
        "# Split into training and validation datasets\n",
        "val_size = int(tf.data.experimental.cardinality(train_dir).numpy() * 0.2)\n",
        "val_dataset = train_dir.take(val_size)\n",
        "train_dataset = train_dir.skip(val_size)\n",
        "\n",
        "# Shuffle training dataset\n",
        "train_dataset = train_dataset.shuffle(1000)\n",
        "\n",
        "# Train the model\n",
        "history = model.fit(\n",
        "    train_dataset,\n",
        "    validation_data=val_dataset,\n",
        "    epochs=20\n",
        ")\n"
      ],
      "metadata": {
        "id": "9hOdTnLPMVnB"
      },
      "execution_count": null,
      "outputs": []
    },
    {
      "cell_type": "code",
      "source": [
        "\n",
        "\n",
        "# Plot Training and Validation Accuracy\n",
        "plt.figure(figsize=(12, 4))\n",
        "\n",
        "plt.subplot(1, 2, 1)\n",
        "plt.plot(history.history['accuracy'], label='Train Accuracy')\n",
        "plt.plot(history.history['val_accuracy'], label='Validation Accuracy')\n",
        "plt.title('Training and Validation Accuracy')\n",
        "plt.xlabel('Epochs')\n",
        "plt.ylabel('Accuracy')\n",
        "plt.legend()\n",
        "\n",
        "# Plot Training and Validation Loss\n",
        "plt.subplot(1, 2, 2)\n",
        "plt.plot(history.history['loss'], label='Train Loss')\n",
        "plt.plot(history.history['val_loss'], label='Validation Loss')\n",
        "plt.title('Training and Validation Loss')\n",
        "plt.xlabel('Epochs')\n",
        "plt.ylabel('Loss')\n",
        "plt.legend()\n",
        "\n",
        "plt.tight_layout()\n",
        "plt.show()\n"
      ],
      "metadata": {
        "id": "Ig7Lde2OMc1V"
      },
      "execution_count": null,
      "outputs": []
    },
    {
      "cell_type": "markdown",
      "source": [
        "# Transfer learning\n"
      ],
      "metadata": {
        "id": "2K6BhJMhsJze"
      }
    },
    {
      "cell_type": "code",
      "source": [
        "from tensorflow.keras.applications import InceptionV3"
      ],
      "metadata": {
        "id": "fpLrtfleuxXR"
      },
      "execution_count": null,
      "outputs": []
    },
    {
      "cell_type": "code",
      "source": [
        "base_model = InceptionV3(weights='imagenet', include_top=False, input_shape=(150, 150, 3))"
      ],
      "metadata": {
        "id": "lZ5e8g6m7XyX"
      },
      "execution_count": null,
      "outputs": []
    },
    {
      "cell_type": "code",
      "source": [
        "for layer in base_model.layers:\n",
        "    layer.trainable = False"
      ],
      "metadata": {
        "id": "lORbU2Y-7bTa"
      },
      "execution_count": null,
      "outputs": []
    },
    {
      "cell_type": "code",
      "source": [
        "class_names = ['Product_1','Product_2','Product_3','Product_4','Product_5','Background']"
      ],
      "metadata": {
        "id": "mgLVEulKvVii"
      },
      "execution_count": null,
      "outputs": []
    },
    {
      "cell_type": "code",
      "source": [
        "transfer_model = models.Sequential([\n",
        "    base_model,\n",
        "    layers.GlobalAveragePooling2D(),\n",
        "    layers.Dense(128, activation='relu'),\n",
        "    layers.Dense(len(class_names), activation='softmax')\n",
        "])"
      ],
      "metadata": {
        "id": "xZ0pXUgUu801"
      },
      "execution_count": null,
      "outputs": []
    },
    {
      "cell_type": "code",
      "source": [
        "transfer_model.compile(optimizer='adam', loss='sparse_categorical_crossentropy', metrics=['accuracy'])"
      ],
      "metadata": {
        "id": "c3n_Q3gXw9Tq"
      },
      "execution_count": null,
      "outputs": []
    },
    {
      "cell_type": "code",
      "source": [
        "history_transfer = transfer_model.fit(\n",
        "    train_dataset,\n",
        "    validation_data=val_dataset,\n",
        "    epochs=20\n",
        ")"
      ],
      "metadata": {
        "id": "eVdhqllBxA9r"
      },
      "execution_count": null,
      "outputs": []
    },
    {
      "cell_type": "markdown",
      "source": [
        "# NEW TRY"
      ],
      "metadata": {
        "id": "HpPLTYC1zbd_"
      }
    },
    {
      "cell_type": "code",
      "source": [
        "#CNN"
      ],
      "metadata": {
        "id": "L6peg3oNzeWy"
      },
      "execution_count": null,
      "outputs": []
    },
    {
      "cell_type": "code",
      "source": [
        "# Importing necessary libraries\n",
        "import tensorflow as tf\n",
        "from tensorflow.keras import layers, models\n",
        "from tensorflow.keras.applications import ResNet50\n",
        "from tensorflow.keras.preprocessing import image_dataset_from_directory\n",
        "from sklearn.utils import class_weight\n",
        "import matplotlib.pyplot as plt\n",
        "import numpy as np\n",
        "import os\n"
      ],
      "metadata": {
        "id": "0bYR5Qp1zgnz"
      },
      "execution_count": null,
      "outputs": []
    },
    {
      "cell_type": "code",
      "source": [
        "from google.colab import drive\n",
        "drive.mount('/content/drive')"
      ],
      "metadata": {
        "colab": {
          "base_uri": "https://localhost:8080/"
        },
        "id": "deS3RdFT0zd-",
        "outputId": "e0eead5b-3a0c-45c6-c8c2-98591ed7d129"
      },
      "execution_count": null,
      "outputs": [
        {
          "output_type": "stream",
          "name": "stdout",
          "text": [
            "Drive already mounted at /content/drive; to attempt to forcibly remount, call drive.mount(\"/content/drive\", force_remount=True).\n"
          ]
        }
      ]
    },
    {
      "cell_type": "code",
      "source": [
        "# Install the splitfolders library\n",
        "!pip install split-folders\n",
        "\n",
        "import splitfolders\n",
        "\n",
        "# Input folder where the 5 classes are located\n",
        "input_folder = \"/content/drive/MyDrive/MLPR Images-20241219T100019Z-001/MLPR Images\"\n",
        "\n",
        "# Output folder for train/val/test splits\n",
        "output_folder = \"/content/split_data\"\n",
        "\n",
        "# Split the data (80% train, 20%test)\n",
        "splitfolders.ratio(input_folder,\n",
        "                   output=output_folder,\n",
        "                   seed=42,\n",
        "                   ratio=(0.8, 0.2),\n",
        "                   group_prefix=None)\n"
      ],
      "metadata": {
        "colab": {
          "base_uri": "https://localhost:8080/"
        },
        "id": "eymWiffo2LEw",
        "outputId": "acc13cea-11ae-4605-f6e6-dad418151f39"
      },
      "execution_count": null,
      "outputs": [
        {
          "output_type": "stream",
          "name": "stdout",
          "text": [
            "Requirement already satisfied: split-folders in /usr/local/lib/python3.10/dist-packages (0.5.1)\n"
          ]
        },
        {
          "output_type": "stream",
          "name": "stderr",
          "text": [
            "Copying files: 1938 files [00:16, 114.84 files/s]\n"
          ]
        }
      ]
    },
    {
      "cell_type": "code",
      "source": [
        "\n",
        "\n",
        "# Load the dataset using image_dataset_from_directory\n",
        "train_dir = \"/content/split_data/train\"\n",
        "val_dir = \"/content/split_data/val\"\n",
        "\n",
        "\n",
        "# Load datasets with appropriate preprocessing\n",
        "train_dataset = image_dataset_from_directory(\n",
        "    train_dir,\n",
        "    label_mode='categorical',  # Multi-class classification with one-hot encoding\n",
        "    batch_size=32,\n",
        "    image_size=(150, 150),\n",
        "    shuffle=True\n",
        ")\n",
        "\n",
        "val_dataset = image_dataset_from_directory(\n",
        "    val_dir,\n",
        "    label_mode='categorical',\n",
        "    batch_size=32,\n",
        "    image_size=(150, 150)\n",
        ")\n",
        "\n",
        "# Class names\n",
        "class_names = train_dataset.class_names\n",
        "print(f\"Classes: {class_names}\")\n"
      ],
      "metadata": {
        "colab": {
          "base_uri": "https://localhost:8080/"
        },
        "id": "DgABCVIizpqV",
        "outputId": "fc6dee34-28e7-4ee6-ab63-73f091ac2f9a"
      },
      "execution_count": null,
      "outputs": [
        {
          "output_type": "stream",
          "name": "stdout",
          "text": [
            "Found 1550 files belonging to 6 classes.\n",
            "Found 388 files belonging to 6 classes.\n",
            "Classes: ['Background', 'Product_1', 'Product_2', 'Product_3', 'Product_4', 'Product_5']\n"
          ]
        }
      ]
    },
    {
      "cell_type": "code",
      "source": [
        "# Calculate class weights to handle imbalance\n",
        "y_train = np.concatenate([y.numpy() for x, y in train_dataset], axis=0)\n",
        "class_weights = class_weight.compute_class_weight(\n",
        "    'balanced',\n",
        "    classes=np.arange(len(class_names)),\n",
        "    y=np.argmax(y_train, axis=1)\n",
        ")\n",
        "class_weights_dict = dict(enumerate(class_weights))\n",
        "print(f\"Class Weights: {class_weights_dict}\")\n"
      ],
      "metadata": {
        "id": "BhT_Kc0q0DTX",
        "colab": {
          "base_uri": "https://localhost:8080/"
        },
        "outputId": "65468076-c9dc-49a4-e5c6-53bb83dc7198"
      },
      "execution_count": null,
      "outputs": [
        {
          "output_type": "stream",
          "name": "stdout",
          "text": [
            "Class Weights: {0: 8.333333333333334, 1: 0.6458333333333334, 2: 23.484848484848484, 3: 0.8072916666666666, 4: 0.8387445887445888, 5: 0.5381944444444444}\n"
          ]
        }
      ]
    },
    {
      "cell_type": "code",
      "source": [
        "# Build a simple CNN model\n",
        "cnn_model = models.Sequential([\n",
        "    layers.InputLayer(input_shape=(150, 150, 3)),\n",
        "    layers.Conv2D(32, (3, 3), activation='relu'),\n",
        "    layers.MaxPooling2D(),\n",
        "    layers.Conv2D(64, (3, 3), activation='relu'),\n",
        "    layers.MaxPooling2D(),\n",
        "    layers.Flatten(),\n",
        "    layers.Dense(128, activation='relu'),\n",
        "    layers.Dense(len(class_names), activation='softmax')  # Output layer\n",
        "])\n",
        "\n",
        "cnn_model.compile(optimizer='adam', loss='categorical_crossentropy', metrics=['accuracy'])\n",
        "\n",
        "# Train the model\n",
        "history_cnn = cnn_model.fit(\n",
        "    train_dataset,\n",
        "    validation_data=val_dataset,\n",
        "    class_weight=class_weights_dict,\n",
        "    epochs=10\n",
        ")\n",
        "\n"
      ],
      "metadata": {
        "id": "7BL86eGM0G-M",
        "colab": {
          "base_uri": "https://localhost:8080/"
        },
        "outputId": "586fa614-fea0-4ccb-cf5a-b7a1d1b1be0c"
      },
      "execution_count": null,
      "outputs": [
        {
          "output_type": "stream",
          "name": "stderr",
          "text": [
            "/usr/local/lib/python3.10/dist-packages/keras/src/layers/core/input_layer.py:26: UserWarning: Argument `input_shape` is deprecated. Use `shape` instead.\n",
            "  warnings.warn(\n"
          ]
        },
        {
          "output_type": "stream",
          "name": "stdout",
          "text": [
            "Epoch 1/10\n",
            "\u001b[1m49/49\u001b[0m \u001b[32m━━━━━━━━━━━━━━━━━━━━\u001b[0m\u001b[37m\u001b[0m \u001b[1m108s\u001b[0m 2s/step - accuracy: 0.3587 - loss: 464.4607 - val_accuracy: 0.1701 - val_loss: 1.7072\n",
            "Epoch 2/10\n",
            "\u001b[1m49/49\u001b[0m \u001b[32m━━━━━━━━━━━━━━━━━━━━\u001b[0m\u001b[37m\u001b[0m \u001b[1m80s\u001b[0m 2s/step - accuracy: 0.4582 - loss: 1.3407 - val_accuracy: 0.3119 - val_loss: 1.6621\n",
            "Epoch 3/10\n",
            "\u001b[1m49/49\u001b[0m \u001b[32m━━━━━━━━━━━━━━━━━━━━\u001b[0m\u001b[37m\u001b[0m \u001b[1m77s\u001b[0m 2s/step - accuracy: 0.5177 - loss: 1.5658 - val_accuracy: 0.3892 - val_loss: 1.4370\n",
            "Epoch 4/10\n",
            "\u001b[1m49/49\u001b[0m \u001b[32m━━━━━━━━━━━━━━━━━━━━\u001b[0m\u001b[37m\u001b[0m \u001b[1m81s\u001b[0m 1s/step - accuracy: 0.5647 - loss: 1.1216 - val_accuracy: 0.3479 - val_loss: 1.5573\n",
            "Epoch 5/10\n",
            "\u001b[1m49/49\u001b[0m \u001b[32m━━━━━━━━━━━━━━━━━━━━\u001b[0m\u001b[37m\u001b[0m \u001b[1m80s\u001b[0m 1s/step - accuracy: 0.4908 - loss: 1.2018 - val_accuracy: 0.3531 - val_loss: 1.5091\n",
            "Epoch 6/10\n",
            "\u001b[1m49/49\u001b[0m \u001b[32m━━━━━━━━━━━━━━━━━━━━\u001b[0m\u001b[37m\u001b[0m \u001b[1m75s\u001b[0m 1s/step - accuracy: 0.5541 - loss: 0.9588 - val_accuracy: 0.5052 - val_loss: 1.2480\n",
            "Epoch 7/10\n",
            "\u001b[1m49/49\u001b[0m \u001b[32m━━━━━━━━━━━━━━━━━━━━\u001b[0m\u001b[37m\u001b[0m \u001b[1m81s\u001b[0m 1s/step - accuracy: 0.6163 - loss: 0.8070 - val_accuracy: 0.5593 - val_loss: 1.0915\n",
            "Epoch 8/10\n",
            "\u001b[1m49/49\u001b[0m \u001b[32m━━━━━━━━━━━━━━━━━━━━\u001b[0m\u001b[37m\u001b[0m \u001b[1m83s\u001b[0m 2s/step - accuracy: 0.6889 - loss: 0.6963 - val_accuracy: 0.6881 - val_loss: 0.8225\n",
            "Epoch 9/10\n",
            "\u001b[1m49/49\u001b[0m \u001b[32m━━━━━━━━━━━━━━━━━━━━\u001b[0m\u001b[37m\u001b[0m \u001b[1m77s\u001b[0m 2s/step - accuracy: 0.7924 - loss: 0.4082 - val_accuracy: 0.6572 - val_loss: 0.8492\n",
            "Epoch 10/10\n",
            "\u001b[1m49/49\u001b[0m \u001b[32m━━━━━━━━━━━━━━━━━━━━\u001b[0m\u001b[37m\u001b[0m \u001b[1m77s\u001b[0m 2s/step - accuracy: 0.8088 - loss: 0.3810 - val_accuracy: 0.7784 - val_loss: 1.2014\n"
          ]
        }
      ]
    },
    {
      "cell_type": "code",
      "source": [
        "# Load pre-trained ResNet50\n",
        "base_model = ResNet50(weights='imagenet', include_top=False, input_shape=(150, 150, 3))\n",
        "\n",
        "\n",
        "print(\"Base model layers \",len(base_model.layers))\n",
        "# Fine-tuning: Unfreeze the top layers of the base model\n",
        "for layer in base_model.layers:\n",
        "    layer.trainable = False  # Freeze all layers initially\n",
        "\n",
        "# Add custom layers\n",
        "transfer_model = models.Sequential([\n",
        "    base_model,\n",
        "    layers.GlobalAveragePooling2D(),\n",
        "    layers.Dense(128, activation='relu'),\n",
        "    layers.Dense(len(class_names), activation='softmax')\n",
        "])\n",
        "\n",
        "transfer_model.compile(optimizer='adam', loss='categorical_crossentropy', metrics=['accuracy'])\n",
        "\n",
        "# Train the model\n",
        "history_transfer = transfer_model.fit(\n",
        "    train_dataset,\n",
        "    validation_data=val_dataset,\n",
        "    class_weight=class_weights_dict,\n",
        "    epochs=10\n",
        ")\n",
        "\n"
      ],
      "metadata": {
        "id": "bOvETHJ70NdV",
        "colab": {
          "base_uri": "https://localhost:8080/"
        },
        "outputId": "7526695c-07d9-4f9a-a65a-6dc0f798e5d4"
      },
      "execution_count": null,
      "outputs": [
        {
          "output_type": "stream",
          "name": "stdout",
          "text": [
            "Base model layers  175\n",
            "Epoch 1/10\n",
            "\u001b[1m49/49\u001b[0m \u001b[32m━━━━━━━━━━━━━━━━━━━━\u001b[0m\u001b[37m\u001b[0m \u001b[1m173s\u001b[0m 3s/step - accuracy: 0.5926 - loss: 1.3971 - val_accuracy: 0.6392 - val_loss: 1.2145\n",
            "Epoch 2/10\n",
            "\u001b[1m49/49\u001b[0m \u001b[32m━━━━━━━━━━━━━━━━━━━━\u001b[0m\u001b[37m\u001b[0m \u001b[1m173s\u001b[0m 3s/step - accuracy: 0.8637 - loss: 0.3126 - val_accuracy: 0.8789 - val_loss: 0.3137\n",
            "Epoch 3/10\n",
            "\u001b[1m49/49\u001b[0m \u001b[32m━━━━━━━━━━━━━━━━━━━━\u001b[0m\u001b[37m\u001b[0m \u001b[1m199s\u001b[0m 3s/step - accuracy: 0.9505 - loss: 0.1379 - val_accuracy: 0.7113 - val_loss: 1.0450\n",
            "Epoch 4/10\n",
            "\u001b[1m49/49\u001b[0m \u001b[32m━━━━━━━━━━━━━━━━━━━━\u001b[0m\u001b[37m\u001b[0m \u001b[1m172s\u001b[0m 4s/step - accuracy: 0.9132 - loss: 0.1716 - val_accuracy: 0.9485 - val_loss: 0.1206\n",
            "Epoch 5/10\n",
            "\u001b[1m49/49\u001b[0m \u001b[32m━━━━━━━━━━━━━━━━━━━━\u001b[0m\u001b[37m\u001b[0m \u001b[1m166s\u001b[0m 3s/step - accuracy: 0.9678 - loss: 0.0593 - val_accuracy: 0.9716 - val_loss: 0.0774\n",
            "Epoch 6/10\n",
            "\u001b[1m49/49\u001b[0m \u001b[32m━━━━━━━━━━━━━━━━━━━━\u001b[0m\u001b[37m\u001b[0m \u001b[1m198s\u001b[0m 3s/step - accuracy: 0.9803 - loss: 0.0354 - val_accuracy: 0.9691 - val_loss: 0.0706\n",
            "Epoch 7/10\n",
            "\u001b[1m49/49\u001b[0m \u001b[32m━━━━━━━━━━━━━━━━━━━━\u001b[0m\u001b[37m\u001b[0m \u001b[1m204s\u001b[0m 3s/step - accuracy: 0.9882 - loss: 0.0263 - val_accuracy: 0.9691 - val_loss: 0.0733\n",
            "Epoch 8/10\n",
            "\u001b[1m49/49\u001b[0m \u001b[32m━━━━━━━━━━━━━━━━━━━━\u001b[0m\u001b[37m\u001b[0m \u001b[1m204s\u001b[0m 3s/step - accuracy: 0.9926 - loss: 0.0232 - val_accuracy: 0.9768 - val_loss: 0.0634\n",
            "Epoch 9/10\n",
            "\u001b[1m49/49\u001b[0m \u001b[32m━━━━━━━━━━━━━━━━━━━━\u001b[0m\u001b[37m\u001b[0m \u001b[1m163s\u001b[0m 3s/step - accuracy: 0.9937 - loss: 0.0189 - val_accuracy: 0.9433 - val_loss: 0.1490\n",
            "Epoch 10/10\n",
            "\u001b[1m49/49\u001b[0m \u001b[32m━━━━━━━━━━━━━━━━━━━━\u001b[0m\u001b[37m\u001b[0m \u001b[1m204s\u001b[0m 3s/step - accuracy: 0.9905 - loss: 0.0233 - val_accuracy: 0.9536 - val_loss: 0.1000\n"
          ]
        }
      ]
    },
    {
      "cell_type": "code",
      "source": [
        "# Plot training and validation accuracy for both models\n",
        "def plot_history(history, title):\n",
        "    plt.figure(figsize=(10, 6))\n",
        "    plt.plot(history.history['accuracy'], label='Train Accuracy')\n",
        "    plt.plot(history.history['val_accuracy'], label='Validation Accuracy')\n",
        "    plt.title(title)\n",
        "    plt.xlabel('Epochs')\n",
        "    plt.ylabel('Accuracy')\n",
        "    plt.legend()\n",
        "    plt.show()\n",
        "\n",
        "plot_history(history_cnn, \"CNN Model Accuracy\")\n",
        "plot_history(history_transfer, \"Transfer Learning Model Accuracy\")\n",
        "\n",
        "# Evaluate on validation dataset\n",
        "cnn_eval = cnn_model.evaluate(val_dataset)\n",
        "transfer_eval = transfer_model.evaluate(val_dataset)\n",
        "\n",
        "print(f\"CNN Model - Loss: {cnn_eval[0]}, Accuracy: {cnn_eval[1]}\")\n",
        "print(f\"Transfer Learning Model - Loss: {transfer_eval[0]}, Accuracy: {transfer_eval[1]}\")\n"
      ],
      "metadata": {
        "id": "s48N4ARs0RO4",
        "colab": {
          "base_uri": "https://localhost:8080/",
          "height": 1000
        },
        "outputId": "233d8af1-f693-4166-fc6b-4128a80b40d3"
      },
      "execution_count": null,
      "outputs": [
        {
          "output_type": "display_data",
          "data": {
            "text/plain": [
              "<Figure size 1000x600 with 1 Axes>"
            ],
            "image/png": "[encoded data removed]"
          },
          "metadata": {}
        },
        {
          "output_type": "display_data",
          "data": {
            "text/plain": [
              "<Figure size 1000x600 with 1 Axes>"
            ],
            "image/png": "[encoded data removed]"
          },
          "metadata": {}
        },
        {
          "output_type": "stream",
          "name": "stdout",
          "text": [
            "\u001b[1m13/13\u001b[0m \u001b[32m━━━━━━━━━━━━━━━━━━━━\u001b[0m\u001b[37m\u001b[0m \u001b[1m8s\u001b[0m 577ms/step - accuracy: 0.8094 - loss: 1.0985\n",
            "\u001b[1m13/13\u001b[0m \u001b[32m━━━━━━━━━━━━━━━━━━━━\u001b[0m\u001b[37m\u001b[0m \u001b[1m33s\u001b[0m 3s/step - accuracy: 0.9597 - loss: 0.1056\n",
            "CNN Model - Loss: 1.2013921737670898, Accuracy: 0.7783505320549011\n",
            "Transfer Learning Model - Loss: 0.0999646708369255, Accuracy: 0.9536082744598389\n"
          ]
        }
      ]
    },
    {
      "cell_type": "code",
      "source": [
        "#Unfreeze base model\n",
        "base_model.trainable = True"
      ],
      "metadata": {
        "id": "H6BAJMPUV3_m"
      },
      "execution_count": null,
      "outputs": []
    },
    {
      "cell_type": "code",
      "source": [
        "# Let's take a look to see how many layers are in the base model\n",
        "print(\"Number of layers in the base model: \", len(base_model.layers))\n",
        "\n",
        "# Fine-tune from this layer onwards\n",
        "fine_tune_at = 100\n",
        "\n",
        "# Freeze all the layers before the `fine_tune_at` layer\n",
        "for layer in base_model.layers[:fine_tune_at]:\n",
        "  layer.trainable = False"
      ],
      "metadata": {
        "colab": {
          "base_uri": "https://localhost:8080/"
        },
        "id": "sFCB_hfAjBjv",
        "outputId": "f0e69080-6b54-4824-8118-c1d68bc37054"
      },
      "execution_count": null,
      "outputs": [
        {
          "output_type": "stream",
          "name": "stdout",
          "text": [
            "Number of layers in the base model:  175\n"
          ]
        }
      ]
    },
    {
      "cell_type": "code",
      "source": [
        "base_learning_rate = 0.0001"
      ],
      "metadata": {
        "id": "W4ka99t9jnro"
      },
      "execution_count": null,
      "outputs": []
    },
    {
      "cell_type": "code",
      "source": [
        "transfer_model.compile(loss='categorical_crossentropy',\n",
        "              optimizer ='adam',\n",
        "              metrics=[tf.keras.metrics.BinaryAccuracy(threshold=0.5, name='accuracy')])"
      ],
      "metadata": {
        "id": "DFMcoJjKjJjh"
      },
      "execution_count": null,
      "outputs": []
    },
    {
      "cell_type": "code",
      "source": [
        "len(transfer_model.trainable_variables)"
      ],
      "metadata": {
        "colab": {
          "base_uri": "https://localhost:8080/"
        },
        "id": "u2KgPFWijwAd",
        "outputId": "86a1778f-0a16-4a1c-f710-d756b9ea28ef"
      },
      "execution_count": null,
      "outputs": [
        {
          "output_type": "execute_result",
          "data": {
            "text/plain": [
              "4"
            ]
          },
          "metadata": {},
          "execution_count": 43
        }
      ]
    },
    {
      "cell_type": "code",
      "source": [
        "fine_tune_epochs = 10\n",
        "total_epochs =  10 + fine_tune_epochs\n",
        "\n",
        "history_fine = transfer_model.fit(train_dataset,\n",
        "                         epochs=total_epochs,\n",
        "                         initial_epoch=len(history_transfer.epoch),\n",
        "                         validation_data=val_dataset)"
      ],
      "metadata": {
        "colab": {
          "base_uri": "https://localhost:8080/"
        },
        "id": "ModV8xtfkinj",
        "outputId": "cfa5518a-b242-47a1-eaba-1349af355f4f"
      },
      "execution_count": null,
      "outputs": [
        {
          "output_type": "stream",
          "name": "stdout",
          "text": [
            "Epoch 11/20\n",
            "\u001b[1m49/49\u001b[0m \u001b[32m━━━━━━━━━━━━━━━━━━━━\u001b[0m\u001b[37m\u001b[0m \u001b[1m186s\u001b[0m 4s/step - accuracy: 0.9947 - loss: 0.0471 - val_accuracy: 0.9863 - val_loss: 0.0953\n",
            "Epoch 12/20\n",
            "\u001b[1m49/49\u001b[0m \u001b[32m━━━━━━━━━━━━━━━━━━━━\u001b[0m\u001b[37m\u001b[0m \u001b[1m189s\u001b[0m 3s/step - accuracy: 0.9878 - loss: 0.1122 - val_accuracy: 0.9841 - val_loss: 0.1243\n",
            "Epoch 13/20\n",
            "\u001b[1m49/49\u001b[0m \u001b[32m━━━━━━━━━━━━━━━━━━━━\u001b[0m\u001b[37m\u001b[0m \u001b[1m166s\u001b[0m 3s/step - accuracy: 0.9983 - loss: 0.0230 - val_accuracy: 0.9957 - val_loss: 0.0524\n",
            "Epoch 14/20\n",
            "\u001b[1m49/49\u001b[0m \u001b[32m━━━━━━━━━━━━━━━━━━━━\u001b[0m\u001b[37m\u001b[0m \u001b[1m200s\u001b[0m 3s/step - accuracy: 0.9997 - loss: 0.0122 - val_accuracy: 0.9931 - val_loss: 0.0879\n",
            "Epoch 15/20\n",
            "\u001b[1m49/49\u001b[0m \u001b[32m━━━━━━━━━━━━━━━━━━━━\u001b[0m\u001b[37m\u001b[0m \u001b[1m202s\u001b[0m 3s/step - accuracy: 0.9991 - loss: 0.0155 - val_accuracy: 0.9880 - val_loss: 0.0949\n",
            "Epoch 16/20\n",
            "\u001b[1m49/49\u001b[0m \u001b[32m━━━━━━━━━━━━━━━━━━━━\u001b[0m\u001b[37m\u001b[0m \u001b[1m200s\u001b[0m 3s/step - accuracy: 0.9988 - loss: 0.0114 - val_accuracy: 0.9966 - val_loss: 0.0551\n",
            "Epoch 17/20\n",
            "\u001b[1m49/49\u001b[0m \u001b[32m━━━━━━━━━━━━━━━━━━━━\u001b[0m\u001b[37m\u001b[0m \u001b[1m206s\u001b[0m 3s/step - accuracy: 0.9991 - loss: 0.0103 - val_accuracy: 0.9914 - val_loss: 0.0894\n",
            "Epoch 18/20\n",
            "\u001b[1m49/49\u001b[0m \u001b[32m━━━━━━━━━━━━━━━━━━━━\u001b[0m\u001b[37m\u001b[0m \u001b[1m166s\u001b[0m 3s/step - accuracy: 0.9998 - loss: 0.0044 - val_accuracy: 0.9897 - val_loss: 0.1093\n",
            "Epoch 19/20\n",
            "\u001b[1m49/49\u001b[0m \u001b[32m━━━━━━━━━━━━━━━━━━━━\u001b[0m\u001b[37m\u001b[0m \u001b[1m163s\u001b[0m 3s/step - accuracy: 0.9993 - loss: 0.0154 - val_accuracy: 0.9940 - val_loss: 0.0657\n",
            "Epoch 20/20\n",
            "\u001b[1m49/49\u001b[0m \u001b[32m━━━━━━━━━━━━━━━━━━━━\u001b[0m\u001b[37m\u001b[0m \u001b[1m165s\u001b[0m 3s/step - accuracy: 0.9999 - loss: 0.0045 - val_accuracy: 0.9880 - val_loss: 0.0917\n"
          ]
        }
      ]
    },
    {
      "cell_type": "code",
      "source": [
        "acc = history_fine.history['accuracy']\n",
        "val_acc = history_fine.history['val_accuracy']\n",
        "\n",
        "loss = history_fine.history['loss']\n",
        "val_loss = history_fine.history['val_loss']\n",
        "print(acc,loss)"
      ],
      "metadata": {
        "colab": {
          "base_uri": "https://localhost:8080/"
        },
        "id": "Ux9c_KhFp71b",
        "outputId": "b386fc5c-2a64-47c8-ce4d-6cf5a836b027"
      },
      "execution_count": null,
      "outputs": [
        {
          "output_type": "stream",
          "name": "stdout",
          "text": [
            "[0.994946300983429, 0.9905375838279724, 0.9983870387077332, 0.999569833278656, 0.9990322589874268, 0.9984946250915527, 0.9993548393249512, 0.9995698928833008, 0.9993548393249512, 0.9997850060462952] [0.05210196226835251, 0.08899661153554916, 0.02190905623137951, 0.01120560523122549, 0.015081825666129589, 0.013273142278194427, 0.009593506343662739, 0.0056519838981330395, 0.009906786493957043, 0.005249613896012306]\n"
          ]
        }
      ]
    },
    {
      "cell_type": "code",
      "source": [
        "plt.figure(figsize=(8, 8))\n",
        "plt.subplot(2, 1, 1)\n",
        "plt.plot(acc, label='Training Accuracy')\n",
        "plt.plot(val_acc, label='Validation Accuracy')\n",
        "plt.ylim([0.8, 1])\n",
        "plt.plot([10-1,10-1],\n",
        "          plt.ylim(), label='Start Fine Tuning')\n",
        "plt.legend(loc='lower right')\n",
        "plt.title('Training and Validation Accuracy')\n",
        "\n",
        "plt.subplot(2, 1, 2)\n",
        "plt.plot(loss, label='Training Loss')\n",
        "plt.plot(val_loss, label='Validation Loss')\n",
        "plt.ylim([0, 1.0])\n",
        "plt.plot([10-1,10-1],\n",
        "         plt.ylim(), label='Start Fine Tuning')\n",
        "plt.legend(loc='upper right')\n",
        "plt.title('Training and Validation Loss')\n",
        "plt.xlabel('epoch')\n",
        "plt.show()"
      ],
      "metadata": {
        "colab": {
          "base_uri": "https://localhost:8080/",
          "height": 718
        },
        "id": "KihuZgMMs1oQ",
        "outputId": "6c5d174c-f98e-4a2d-9938-55b49be60956"
      },
      "execution_count": null,
      "outputs": [
        {
          "output_type": "display_data",
          "data": {
            "text/plain": [
              "<Figure size 800x800 with 2 Axes>"
            ],
            "image/png": "[encoded data removed]"
          },
          "metadata": {}
        }
      ]
    },
    {
      "cell_type": "code",
      "source": [
        "loss, accuracy = transfer_model.evaluate(train_dataset)\n",
        "print('Test accuracy :', accuracy)"
      ],
      "metadata": {
        "colab": {
          "base_uri": "https://localhost:8080/"
        },
        "id": "k7N28zPUtVJ-",
        "outputId": "fb88f8e6-e5c8-4a94-a7f1-fbe68efcec24"
      },
      "execution_count": null,
      "outputs": [
        {
          "output_type": "stream",
          "name": "stdout",
          "text": [
            "\u001b[1m49/49\u001b[0m \u001b[32m━━━━━━━━━━━━━━━━━━━━\u001b[0m\u001b[37m\u001b[0m \u001b[1m132s\u001b[0m 3s/step - accuracy: 0.9992 - loss: 0.0103\n",
            "Test accuracy : 0.9993548393249512\n"
          ]
        }
      ]
    },
    {
      "cell_type": "code",
      "source": [
        "print(loss)"
      ],
      "metadata": {
        "colab": {
          "base_uri": "https://localhost:8080/"
        },
        "id": "3aAqzOJ-uP80",
        "outputId": "a9d7e697-c263-46ac-9d01-8bea7477691c"
      },
      "execution_count": null,
      "outputs": [
        {
          "output_type": "stream",
          "name": "stdout",
          "text": [
            "0.008246384561061859\n"
          ]
        }
      ]
    },
    {
      "cell_type": "markdown",
      "source": [
        "# Try\n"
      ],
      "metadata": {
        "id": "pTUQP6l6BFmH"
      }
    },
    {
      "cell_type": "code",
      "source": [],
      "metadata": {
        "id": "hQX_EJ1nBFNI"
      },
      "execution_count": null,
      "outputs": []
    }
  ]
}